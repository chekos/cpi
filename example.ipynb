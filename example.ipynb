{
 "cells": [
  {
   "cell_type": "markdown",
   "metadata": {},
   "source": [
    "# Testing CPI with arrays of dates\n",
    "\n",
    "###### 10-22-18"
   ]
  },
  {
   "cell_type": "code",
   "execution_count": 1,
   "metadata": {},
   "outputs": [],
   "source": [
    "import cpi\n",
    "import pandas as pd\n",
    "import numpy as np\n",
    "\n",
    "from datetime import date"
   ]
  },
  {
   "cell_type": "markdown",
   "metadata": {},
   "source": [
    "Using `pandas.util.testing` we can create 2 dataframes with datetime indexes and using `numpy.random.randint()` we can create a set of corresponding _income_ values.\n",
    "\n",
    "We use `freq = 'W'` so we have 100 different dates but ~25 different months as an example of data that could be found _in the wild_."
   ]
  },
  {
   "cell_type": "code",
   "execution_count": 2,
   "metadata": {},
   "outputs": [],
   "source": [
    "first_date = pd.date_range(end = '2018-01-01', periods = 3000, freq = 'W')\n",
    "\n",
    "second_date = pd.date_range(start = '1930-01-01', periods = 3000, freq = 'W')\n",
    "\n",
    "incomes = np.random.randint(low = 1500, high = 200_000, size = 3000)"
   ]
  },
  {
   "cell_type": "markdown",
   "metadata": {},
   "source": [
    "From there we can construct our working dataframe"
   ]
  },
  {
   "cell_type": "code",
   "execution_count": 3,
   "metadata": {},
   "outputs": [],
   "source": [
    "df = pd.DataFrame(columns=['date_from', 'date_to', 'incomes'])"
   ]
  },
  {
   "cell_type": "code",
   "execution_count": 4,
   "metadata": {},
   "outputs": [
    {
     "data": {
      "text/html": [
       "<div>\n",
       "<style scoped>\n",
       "    .dataframe tbody tr th:only-of-type {\n",
       "        vertical-align: middle;\n",
       "    }\n",
       "\n",
       "    .dataframe tbody tr th {\n",
       "        vertical-align: top;\n",
       "    }\n",
       "\n",
       "    .dataframe thead th {\n",
       "        text-align: right;\n",
       "    }\n",
       "</style>\n",
       "<table border=\"1\" class=\"dataframe\">\n",
       "  <thead>\n",
       "    <tr style=\"text-align: right;\">\n",
       "      <th></th>\n",
       "      <th>date_from</th>\n",
       "      <th>date_to</th>\n",
       "      <th>incomes</th>\n",
       "    </tr>\n",
       "  </thead>\n",
       "  <tbody>\n",
       "    <tr>\n",
       "      <th>0</th>\n",
       "      <td>1930-01-05</td>\n",
       "      <td>1960-07-10</td>\n",
       "      <td>76223</td>\n",
       "    </tr>\n",
       "    <tr>\n",
       "      <th>1</th>\n",
       "      <td>1930-01-12</td>\n",
       "      <td>1960-07-17</td>\n",
       "      <td>168785</td>\n",
       "    </tr>\n",
       "    <tr>\n",
       "      <th>2</th>\n",
       "      <td>1930-01-19</td>\n",
       "      <td>1960-07-24</td>\n",
       "      <td>131969</td>\n",
       "    </tr>\n",
       "    <tr>\n",
       "      <th>3</th>\n",
       "      <td>1930-01-26</td>\n",
       "      <td>1960-07-31</td>\n",
       "      <td>36297</td>\n",
       "    </tr>\n",
       "    <tr>\n",
       "      <th>4</th>\n",
       "      <td>1930-02-02</td>\n",
       "      <td>1960-08-07</td>\n",
       "      <td>172199</td>\n",
       "    </tr>\n",
       "  </tbody>\n",
       "</table>\n",
       "</div>"
      ],
      "text/plain": [
       "   date_from    date_to  incomes\n",
       "0 1930-01-05 1960-07-10    76223\n",
       "1 1930-01-12 1960-07-17   168785\n",
       "2 1930-01-19 1960-07-24   131969\n",
       "3 1930-01-26 1960-07-31    36297\n",
       "4 1930-02-02 1960-08-07   172199"
      ]
     },
     "execution_count": 4,
     "metadata": {},
     "output_type": "execute_result"
    }
   ],
   "source": [
    "df['date_from'] = second_date\n",
    "df['date_to'] = first_date\n",
    "df['incomes'] = incomes\n",
    "\n",
    "df.head()"
   ]
  },
  {
   "cell_type": "markdown",
   "metadata": {},
   "source": [
    "***\n",
    "`CPI` works in a simple fashion:\n",
    "1. Look for `year_or_month` for when the values are from and retrieve its ___source_index___.\n",
    "2. Look for `to` for the ___target_index___ to inflate the values _to_.\n",
    "3. `return (value * target_index) / float(source_index)`\n",
    "\n",
    "The simplicity of the conversion lends `CPI` to be useful when `value` is a pandas series or numpy array. \n",
    "\n",
    "\n",
    "The goal is to be able to provide a pandas series or numpy array with dates as well.\n",
    "\n",
    "Here's an example of a work-around:"
   ]
  },
  {
   "cell_type": "code",
   "execution_count": 5,
   "metadata": {},
   "outputs": [],
   "source": [
    "# source_index\n",
    "cpi_values_source = {}\n",
    "\n",
    "dates_from = df['date_from'].astype(str).str[:7] # 1234-56\n",
    "\n",
    "for item in dates_from.unique():\n",
    "    # retrieve all values and store them in a dict()\n",
    "    y_m = str(item).split(\"-\")\n",
    "    y_m = [int(y_m[0]), int(y_m[1])] # year and month\n",
    "    target_date = date(y_m[0], y_m[1], 1)\n",
    "    cpi_values_source[item] = cpi.get(target_date)\n",
    "    \n",
    "# Map those values to another series\n",
    "source_index = dates_from.map(cpi_values_source)"
   ]
  },
  {
   "cell_type": "code",
   "execution_count": 6,
   "metadata": {},
   "outputs": [],
   "source": [
    "# targe_index\n",
    "cpi_values_target = {}\n",
    "\n",
    "dates_to = df['date_to'].astype(str).str[:7]\n",
    "\n",
    "for item in dates_to.unique():\n",
    "    # retrieve all values and store them in a dict()\n",
    "    y_m = str(item).split(\"-\")\n",
    "    y_m = [int(y_m[0]), int(y_m[1])] # year and month\n",
    "    target_date = date(y_m[0], y_m[1], 1)\n",
    "    cpi_values_target[item] = cpi.get(target_date)\n",
    "    \n",
    "# Map those values to another series\n",
    "target_index = dates_to.map(cpi_values_target)"
   ]
  },
  {
   "cell_type": "code",
   "execution_count": 7,
   "metadata": {},
   "outputs": [
    {
     "data": {
      "text/html": [
       "<div>\n",
       "<style scoped>\n",
       "    .dataframe tbody tr th:only-of-type {\n",
       "        vertical-align: middle;\n",
       "    }\n",
       "\n",
       "    .dataframe tbody tr th {\n",
       "        vertical-align: top;\n",
       "    }\n",
       "\n",
       "    .dataframe thead th {\n",
       "        text-align: right;\n",
       "    }\n",
       "</style>\n",
       "<table border=\"1\" class=\"dataframe\">\n",
       "  <thead>\n",
       "    <tr style=\"text-align: right;\">\n",
       "      <th></th>\n",
       "      <th>date_from</th>\n",
       "      <th>date_to</th>\n",
       "      <th>incomes</th>\n",
       "      <th>inflated</th>\n",
       "    </tr>\n",
       "  </thead>\n",
       "  <tbody>\n",
       "    <tr>\n",
       "      <th>0</th>\n",
       "      <td>1930-01-05</td>\n",
       "      <td>1960-07-10</td>\n",
       "      <td>76223</td>\n",
       "      <td>131941.567251</td>\n",
       "    </tr>\n",
       "    <tr>\n",
       "      <th>1</th>\n",
       "      <td>1930-01-12</td>\n",
       "      <td>1960-07-17</td>\n",
       "      <td>168785</td>\n",
       "      <td>292165.847953</td>\n",
       "    </tr>\n",
       "    <tr>\n",
       "      <th>2</th>\n",
       "      <td>1930-01-19</td>\n",
       "      <td>1960-07-24</td>\n",
       "      <td>131969</td>\n",
       "      <td>228437.567251</td>\n",
       "    </tr>\n",
       "    <tr>\n",
       "      <th>3</th>\n",
       "      <td>1930-01-26</td>\n",
       "      <td>1960-07-31</td>\n",
       "      <td>36297</td>\n",
       "      <td>62829.894737</td>\n",
       "    </tr>\n",
       "    <tr>\n",
       "      <th>4</th>\n",
       "      <td>1930-02-02</td>\n",
       "      <td>1960-08-07</td>\n",
       "      <td>172199</td>\n",
       "      <td>299828.847059</td>\n",
       "    </tr>\n",
       "  </tbody>\n",
       "</table>\n",
       "</div>"
      ],
      "text/plain": [
       "   date_from    date_to  incomes       inflated\n",
       "0 1930-01-05 1960-07-10    76223  131941.567251\n",
       "1 1930-01-12 1960-07-17   168785  292165.847953\n",
       "2 1930-01-19 1960-07-24   131969  228437.567251\n",
       "3 1930-01-26 1960-07-31    36297   62829.894737\n",
       "4 1930-02-02 1960-08-07   172199  299828.847059"
      ]
     },
     "execution_count": 7,
     "metadata": {},
     "output_type": "execute_result"
    }
   ],
   "source": [
    "df['inflated'] = df['incomes'] * target_index / source_index\n",
    "\n",
    "df.head()"
   ]
  },
  {
   "cell_type": "markdown",
   "metadata": {},
   "source": [
    "***\n",
    "The value here is that even if you have 6000 different weekly observations you only have around ($6000 / 4=$) 1500 different months and so you should only call `cpi.get()` 1500 times, not 6000."
   ]
  },
  {
   "cell_type": "markdown",
   "metadata": {},
   "source": [
    "A much more common case would be to have a set of weekly observations and to _inflate_ them all to the most up-to-date index."
   ]
  },
  {
   "cell_type": "code",
   "execution_count": 8,
   "metadata": {},
   "outputs": [],
   "source": [
    "cpi.update()"
   ]
  },
  {
   "cell_type": "code",
   "execution_count": 9,
   "metadata": {},
   "outputs": [
    {
     "data": {
      "text/plain": [
       "datetime.date(2018, 9, 1)"
      ]
     },
     "execution_count": 9,
     "metadata": {},
     "output_type": "execute_result"
    }
   ],
   "source": [
    "cpi.LATEST_MONTH"
   ]
  },
  {
   "cell_type": "code",
   "execution_count": 10,
   "metadata": {},
   "outputs": [
    {
     "data": {
      "text/html": [
       "<div>\n",
       "<style scoped>\n",
       "    .dataframe tbody tr th:only-of-type {\n",
       "        vertical-align: middle;\n",
       "    }\n",
       "\n",
       "    .dataframe tbody tr th {\n",
       "        vertical-align: top;\n",
       "    }\n",
       "\n",
       "    .dataframe thead th {\n",
       "        text-align: right;\n",
       "    }\n",
       "</style>\n",
       "<table border=\"1\" class=\"dataframe\">\n",
       "  <thead>\n",
       "    <tr style=\"text-align: right;\">\n",
       "      <th></th>\n",
       "      <th>date_from</th>\n",
       "      <th>date_to</th>\n",
       "      <th>incomes</th>\n",
       "    </tr>\n",
       "  </thead>\n",
       "  <tbody>\n",
       "    <tr>\n",
       "      <th>0</th>\n",
       "      <td>1960-07-10</td>\n",
       "      <td>2018-09-01</td>\n",
       "      <td>161370</td>\n",
       "    </tr>\n",
       "    <tr>\n",
       "      <th>1</th>\n",
       "      <td>1960-07-17</td>\n",
       "      <td>2018-09-01</td>\n",
       "      <td>188067</td>\n",
       "    </tr>\n",
       "    <tr>\n",
       "      <th>2</th>\n",
       "      <td>1960-07-24</td>\n",
       "      <td>2018-09-01</td>\n",
       "      <td>117156</td>\n",
       "    </tr>\n",
       "    <tr>\n",
       "      <th>3</th>\n",
       "      <td>1960-07-31</td>\n",
       "      <td>2018-09-01</td>\n",
       "      <td>104511</td>\n",
       "    </tr>\n",
       "    <tr>\n",
       "      <th>4</th>\n",
       "      <td>1960-08-07</td>\n",
       "      <td>2018-09-01</td>\n",
       "      <td>160086</td>\n",
       "    </tr>\n",
       "  </tbody>\n",
       "</table>\n",
       "</div>"
      ],
      "text/plain": [
       "   date_from     date_to  incomes\n",
       "0 1960-07-10  2018-09-01   161370\n",
       "1 1960-07-17  2018-09-01   188067\n",
       "2 1960-07-24  2018-09-01   117156\n",
       "3 1960-07-31  2018-09-01   104511\n",
       "4 1960-08-07  2018-09-01   160086"
      ]
     },
     "execution_count": 10,
     "metadata": {},
     "output_type": "execute_result"
    }
   ],
   "source": [
    "date_from = pd.date_range(end = '2018-01-01', periods = 3000, freq = 'W')\n",
    "\n",
    "incomes = np.random.randint(low = 1500, high = 200_000, size = 3000)\n",
    "\n",
    "df = pd.DataFrame(columns=['date_from', 'date_to', 'incomes'])\n",
    "\n",
    "df['date_from'] = date_from\n",
    "df['date_to'] = \"2018-09-01\"\n",
    "df['incomes'] = incomes\n",
    "\n",
    "df.head()"
   ]
  },
  {
   "cell_type": "markdown",
   "metadata": {},
   "source": [
    "Currently, the example from `CPI` documentation for working with pandas uses the `.apply()` method."
   ]
  },
  {
   "cell_type": "code",
   "execution_count": 11,
   "metadata": {},
   "outputs": [],
   "source": [
    "df['YEAR'] = df['date_from'].dt.year # prepping for CPI README example"
   ]
  },
  {
   "cell_type": "code",
   "execution_count": 12,
   "metadata": {},
   "outputs": [
    {
     "name": "stdout",
     "output_type": "stream",
     "text": [
      "130 ms ± 5.16 ms per loop (mean ± std. dev. of 7 runs, 10 loops each)\n"
     ]
    }
   ],
   "source": [
    "%%timeit\n",
    "df['ADJUSTED'] = df.apply(lambda x: cpi.inflate(x['incomes'], x['YEAR']), axis=1)"
   ]
  },
  {
   "cell_type": "code",
   "execution_count": 13,
   "metadata": {},
   "outputs": [
    {
     "data": {
      "text/html": [
       "<div>\n",
       "<style scoped>\n",
       "    .dataframe tbody tr th:only-of-type {\n",
       "        vertical-align: middle;\n",
       "    }\n",
       "\n",
       "    .dataframe tbody tr th {\n",
       "        vertical-align: top;\n",
       "    }\n",
       "\n",
       "    .dataframe thead th {\n",
       "        text-align: right;\n",
       "    }\n",
       "</style>\n",
       "<table border=\"1\" class=\"dataframe\">\n",
       "  <thead>\n",
       "    <tr style=\"text-align: right;\">\n",
       "      <th></th>\n",
       "      <th>YEAR</th>\n",
       "      <th>incomes</th>\n",
       "      <th>ADJUSTED</th>\n",
       "    </tr>\n",
       "  </thead>\n",
       "  <tbody>\n",
       "    <tr>\n",
       "      <th>0</th>\n",
       "      <td>1960</td>\n",
       "      <td>161370</td>\n",
       "      <td>1.336318e+06</td>\n",
       "    </tr>\n",
       "    <tr>\n",
       "      <th>1</th>\n",
       "      <td>1960</td>\n",
       "      <td>188067</td>\n",
       "      <td>1.557398e+06</td>\n",
       "    </tr>\n",
       "    <tr>\n",
       "      <th>2</th>\n",
       "      <td>1960</td>\n",
       "      <td>117156</td>\n",
       "      <td>9.701783e+05</td>\n",
       "    </tr>\n",
       "    <tr>\n",
       "      <th>3</th>\n",
       "      <td>1960</td>\n",
       "      <td>104511</td>\n",
       "      <td>8.654641e+05</td>\n",
       "    </tr>\n",
       "    <tr>\n",
       "      <th>4</th>\n",
       "      <td>1960</td>\n",
       "      <td>160086</td>\n",
       "      <td>1.325685e+06</td>\n",
       "    </tr>\n",
       "  </tbody>\n",
       "</table>\n",
       "</div>"
      ],
      "text/plain": [
       "   YEAR  incomes      ADJUSTED\n",
       "0  1960   161370  1.336318e+06\n",
       "1  1960   188067  1.557398e+06\n",
       "2  1960   117156  9.701783e+05\n",
       "3  1960   104511  8.654641e+05\n",
       "4  1960   160086  1.325685e+06"
      ]
     },
     "execution_count": 13,
     "metadata": {},
     "output_type": "execute_result"
    }
   ],
   "source": [
    "df[['YEAR', 'incomes', 'ADJUSTED']].head()"
   ]
  },
  {
   "cell_type": "markdown",
   "metadata": {},
   "source": [
    "Using this _new_ method, not only can we do this for each month (not just year) but it is also a bit faster."
   ]
  },
  {
   "cell_type": "code",
   "execution_count": 14,
   "metadata": {},
   "outputs": [
    {
     "name": "stdout",
     "output_type": "stream",
     "text": [
      "25.2 ms ± 1.28 ms per loop (mean ± std. dev. of 7 runs, 10 loops each)\n"
     ]
    }
   ],
   "source": [
    "%%timeit\n",
    "# source_index\n",
    "cpi_values_source = {}\n",
    "\n",
    "dates_from = df['date_from'].astype(str).str[:7] # 1234-56\n",
    "\n",
    "for item in dates_from.unique():\n",
    "    # retrieve all values and store them in a dict()\n",
    "    y_m = str(item).split(\"-\")\n",
    "    y_m = [int(y_m[0]), int(y_m[1])] # year and month\n",
    "    target_date = date(y_m[0], y_m[1], 1)\n",
    "    cpi_values_source[item] = cpi.get(target_date)\n",
    "    \n",
    "# Map those values to another series\n",
    "source_index = dates_from.map(cpi_values_source)\n",
    "target_index = cpi.get(date(2018,9,1))\n",
    "\n",
    "df['ADJUSTED_2'] = df['incomes'] * target_index / source_index"
   ]
  },
  {
   "cell_type": "code",
   "execution_count": 15,
   "metadata": {},
   "outputs": [
    {
     "data": {
      "text/html": [
       "<div>\n",
       "<style scoped>\n",
       "    .dataframe tbody tr th:only-of-type {\n",
       "        vertical-align: middle;\n",
       "    }\n",
       "\n",
       "    .dataframe tbody tr th {\n",
       "        vertical-align: top;\n",
       "    }\n",
       "\n",
       "    .dataframe thead th {\n",
       "        text-align: right;\n",
       "    }\n",
       "</style>\n",
       "<table border=\"1\" class=\"dataframe\">\n",
       "  <thead>\n",
       "    <tr style=\"text-align: right;\">\n",
       "      <th></th>\n",
       "      <th>date_from</th>\n",
       "      <th>incomes</th>\n",
       "      <th>ADJUSTED_2</th>\n",
       "    </tr>\n",
       "  </thead>\n",
       "  <tbody>\n",
       "    <tr>\n",
       "      <th>0</th>\n",
       "      <td>1960-07-10</td>\n",
       "      <td>161370</td>\n",
       "      <td>1.376219e+06</td>\n",
       "    </tr>\n",
       "    <tr>\n",
       "      <th>1</th>\n",
       "      <td>1960-07-17</td>\n",
       "      <td>188067</td>\n",
       "      <td>1.603900e+06</td>\n",
       "    </tr>\n",
       "    <tr>\n",
       "      <th>2</th>\n",
       "      <td>1960-07-24</td>\n",
       "      <td>117156</td>\n",
       "      <td>9.991467e+05</td>\n",
       "    </tr>\n",
       "    <tr>\n",
       "      <th>3</th>\n",
       "      <td>1960-07-31</td>\n",
       "      <td>104511</td>\n",
       "      <td>8.913058e+05</td>\n",
       "    </tr>\n",
       "    <tr>\n",
       "      <th>4</th>\n",
       "      <td>1960-08-07</td>\n",
       "      <td>160086</td>\n",
       "      <td>1.365269e+06</td>\n",
       "    </tr>\n",
       "  </tbody>\n",
       "</table>\n",
       "</div>"
      ],
      "text/plain": [
       "   date_from  incomes    ADJUSTED_2\n",
       "0 1960-07-10   161370  1.376219e+06\n",
       "1 1960-07-17   188067  1.603900e+06\n",
       "2 1960-07-24   117156  9.991467e+05\n",
       "3 1960-07-31   104511  8.913058e+05\n",
       "4 1960-08-07   160086  1.365269e+06"
      ]
     },
     "execution_count": 15,
     "metadata": {},
     "output_type": "execute_result"
    }
   ],
   "source": [
    "df[['date_from', 'incomes', 'ADJUSTED_2']].head()"
   ]
  }
 ],
 "metadata": {
  "kernelspec": {
   "display_name": "Python 3",
   "language": "python",
   "name": "python3"
  },
  "language_info": {
   "codemirror_mode": {
    "name": "ipython",
    "version": 3
   },
   "file_extension": ".py",
   "mimetype": "text/x-python",
   "name": "python",
   "nbconvert_exporter": "python",
   "pygments_lexer": "ipython3",
   "version": "3.6.6"
  }
 },
 "nbformat": 4,
 "nbformat_minor": 2
}
